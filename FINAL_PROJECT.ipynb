{
  "nbformat": 4,
  "nbformat_minor": 0,
  "metadata": {
    "colab": {
      "name": "FINAL PROJECT.ipynb",
      "provenance": [],
      "collapsed_sections": [
        "634WRpf_gtTm"
      ],
      "include_colab_link": true
    },
    "kernelspec": {
      "name": "python3",
      "display_name": "Python 3"
    },
    "accelerator": "GPU"
  },
  "cells": [
    {
      "cell_type": "markdown",
      "metadata": {
        "id": "view-in-github",
        "colab_type": "text"
      },
      "source": [
        "<a href=\"https://colab.research.google.com/github/mariaher07/FinalProjectDL2020/blob/master/FINAL_PROJECT.ipynb\" target=\"_parent\"><img src=\"https://colab.research.google.com/assets/colab-badge.svg\" alt=\"Open In Colab\"/></a>"
      ]
    },
    {
      "cell_type": "markdown",
      "metadata": {
        "id": "IvcOz1eTrxRx",
        "colab_type": "text"
      },
      "source": [
        "# **SENTIMENT ANALYSIS: RESTAURANT REVIEWS**\n",
        "#RNN vs CNN\n"
      ]
    },
    {
      "cell_type": "markdown",
      "metadata": {
        "id": "Y4pgUnBH_NPZ",
        "colab_type": "text"
      },
      "source": [
        "Authors:\n",
        "\n",
        "Esther Flores\n",
        "\n",
        "Candela García\n",
        "\n",
        "María Hernández"
      ]
    },
    {
      "cell_type": "markdown",
      "metadata": {
        "id": "421fNgVaaVfE",
        "colab_type": "text"
      },
      "source": [
        "##Preparation of Data"
      ]
    },
    {
      "cell_type": "code",
      "metadata": {
        "id": "bqBRsmSlR1lO",
        "colab_type": "code",
        "colab": {
          "base_uri": "https://localhost:8080/",
          "height": 34
        },
        "outputId": "51cf481b-f0bd-4f8d-afff-45140b56bdc0"
      },
      "source": [
        "\n",
        "\n",
        "from google.colab import drive\n",
        "import matplotlib.pyplot as plt\n",
        "import numpy as np\n",
        "# Mount Google Drive\n",
        "drive.mount('/content/drive')\n",
        "data_path = '/content/drive/My Drive/Deep_Learning2020/FINAL_PROJECT/DATA/'\n",
        "results_path = '/content/drive/My Drive/Deep_Learning2020/FINAL_PROJECT/RESULTS/'\n",
        "\n"
      ],
      "execution_count": 27,
      "outputs": [
        {
          "output_type": "stream",
          "text": [
            "Drive already mounted at /content/drive; to attempt to forcibly remount, call drive.mount(\"/content/drive\", force_remount=True).\n"
          ],
          "name": "stdout"
        }
      ]
    },
    {
      "cell_type": "markdown",
      "metadata": {
        "id": "tFqtcEl97lt4",
        "colab_type": "text"
      },
      "source": [
        "Divide dataset"
      ]
    },
    {
      "cell_type": "code",
      "metadata": {
        "id": "nOBpenvL1Foo",
        "colab_type": "code",
        "colab": {
          "base_uri": "https://localhost:8080/",
          "height": 265
        },
        "outputId": "da0274d2-d255-4dd0-c7a0-e12b097451b3"
      },
      "source": [
        "from torchtext import datasets\n",
        "import pandas\n",
        "\n",
        "df = pandas.read_csv(data_path+'Restaurant_Reviews.csv',sep='\\t')\n",
        "print(df.head)\n",
        "\n",
        "from sklearn.model_selection import train_test_split\n",
        "\n",
        "train, validate, test = np.split(df.sample(frac=1), [int(.6*len(df)), int(.8*len(df))])\n",
        "\n"
      ],
      "execution_count": 28,
      "outputs": [
        {
          "output_type": "stream",
          "text": [
            "<bound method NDFrame.head of                                                 Review  Liked\n",
            "0                             Wow... Loved this place.      1\n",
            "1                                   Crust is not good.      0\n",
            "2            Not tasty and the texture was just nasty.      0\n",
            "3    Stopped by during the late May bank holiday of...      1\n",
            "4    The selection on the menu was great and so wer...      1\n",
            "..                                                 ...    ...\n",
            "995  I think food should have flavor and texture an...      0\n",
            "996                           Appetite instantly gone.      0\n",
            "997  Overall I was not impressed and would not go b...      0\n",
            "998  The whole experience was underwhelming, and I ...      0\n",
            "999  Then, as if I hadn't wasted enough of my life ...      0\n",
            "\n",
            "[1000 rows x 2 columns]>\n"
          ],
          "name": "stdout"
        }
      ]
    },
    {
      "cell_type": "code",
      "metadata": {
        "id": "4sTkChSaGU9n",
        "colab_type": "code",
        "colab": {
          "base_uri": "https://localhost:8080/",
          "height": 265
        },
        "outputId": "5803f734-52b4-469e-eb7f-2a133cdf6b6f"
      },
      "source": [
        "print(train)"
      ],
      "execution_count": 29,
      "outputs": [
        {
          "output_type": "stream",
          "text": [
            "                                                Review  Liked\n",
            "38               My first visit to Hiro was a delight!      1\n",
            "981  We started with the tuna sashimi which was bro...      0\n",
            "223  Hopefully this bodes for them going out of bus...      0\n",
            "14   I was disgusted because I was pretty sure that...      0\n",
            "857  Some may say this buffet is pricey but I think...      1\n",
            "..                                                 ...    ...\n",
            "908                             We won't be returning.      0\n",
            "444  Each day of the week they have a different dea...      1\n",
            "16                                 Highly recommended.      1\n",
            "271       You cant go wrong with any of the food here.      1\n",
            "100  Our server was fantastic and when he found out...      1\n",
            "\n",
            "[600 rows x 2 columns]\n"
          ],
          "name": "stdout"
        }
      ]
    },
    {
      "cell_type": "markdown",
      "metadata": {
        "id": "ZTQ6pque7b_X",
        "colab_type": "text"
      },
      "source": [
        "Process sets to create type Dataset"
      ]
    },
    {
      "cell_type": "code",
      "metadata": {
        "id": "Z77UQ_lbtZ3y",
        "colab_type": "code",
        "colab": {}
      },
      "source": [
        "from sklearn.model_selection import train_test_split\n",
        "\n",
        "from torchtext import data as ttd\n",
        "from torchtext.data import Example\n",
        "from torchtext.data import Dataset\n",
        "import torch\n",
        "from torchtext import data\n"
      ],
      "execution_count": 30,
      "outputs": []
    },
    {
      "cell_type": "code",
      "metadata": {
        "id": "HgRYFhORmSKt",
        "colab_type": "code",
        "colab": {}
      },
      "source": [
        "def preprocess_data(data):\n",
        " \n",
        "    data.loc[data['Liked'] == 0, ['Liked']] = 'neg'\n",
        "    data.loc[data['Liked'] == 1, ['Liked']] = 'pos'\n",
        "    return data\n",
        "\n",
        "def convert_to_dataset(data, text, label):\n",
        "    \n",
        "    list_of_examples = [Example.fromlist(row.tolist(),\n",
        "                                         fields=[('text', text), ('label', label)]) for _, row in data.iterrows()]\n",
        "\n",
        "\n",
        "    dataset = Dataset(examples=list_of_examples, fields=[('text', text), ('label', label)])\n",
        "\n",
        "    return dataset\n",
        "\n",
        "\n",
        "TEXT = data.Field(tokenize = 'spacy', include_lengths = True)\n",
        "LABEL = data.LabelField(dtype = torch.float)\n",
        "\n",
        "\n",
        "train=preprocess_data(train)\n",
        "validate=preprocess_data(validate)\n",
        "test=preprocess_data(test)\n",
        "train_torchtext=convert_to_dataset(train,TEXT,LABEL)\n",
        "validate_torchtext=convert_to_dataset(validate,TEXT,LABEL)\n",
        "test_torchtext=convert_to_dataset(test,TEXT,LABEL)\n",
        "\n"
      ],
      "execution_count": 31,
      "outputs": []
    },
    {
      "cell_type": "markdown",
      "metadata": {
        "id": "Ll-l1VQ_7wsR",
        "colab_type": "text"
      },
      "source": [
        "Example of one sequence"
      ]
    },
    {
      "cell_type": "code",
      "metadata": {
        "id": "KmrxQUR7qGrU",
        "colab_type": "code",
        "colab": {
          "base_uri": "https://localhost:8080/",
          "height": 34
        },
        "outputId": "03926e4e-2c0a-4bab-e49c-461fba8d818a"
      },
      "source": [
        "print(vars(train_torchtext.examples[0]))"
      ],
      "execution_count": 32,
      "outputs": [
        {
          "output_type": "stream",
          "text": [
            "{'text': ['My', 'first', 'visit', 'to', 'Hiro', 'was', 'a', 'delight', '!'], 'label': 'pos'}\n"
          ],
          "name": "stdout"
        }
      ]
    },
    {
      "cell_type": "code",
      "metadata": {
        "id": "OM3T4tNqOtvY",
        "colab_type": "code",
        "colab": {}
      },
      "source": [
        "MAX_VOCAB_SIZE=25000\n",
        "TEXT.build_vocab(train_torchtext, \n",
        "                 max_size = MAX_VOCAB_SIZE, \n",
        "                 vectors = \"glove.6B.100d\", \n",
        "                 unk_init = torch.Tensor.normal_)\n",
        "\n",
        "LABEL.build_vocab(train_torchtext)"
      ],
      "execution_count": 33,
      "outputs": []
    },
    {
      "cell_type": "markdown",
      "metadata": {
        "id": "Q6qITbQK82o0",
        "colab_type": "text"
      },
      "source": [
        "20 most used words from the vocabulary"
      ]
    },
    {
      "cell_type": "code",
      "metadata": {
        "id": "N0aX6JqH1XPm",
        "colab_type": "code",
        "colab": {
          "base_uri": "https://localhost:8080/",
          "height": 54
        },
        "outputId": "e398b9da-53bf-43f4-c42c-feb9c7214d91"
      },
      "source": [
        "print(TEXT.vocab.freqs.most_common(20))"
      ],
      "execution_count": 34,
      "outputs": [
        {
          "output_type": "stream",
          "text": [
            "[('.', 489), ('the', 240), (',', 227), ('and', 215), ('I', 209), ('was', 186), ('!', 154), ('a', 146), ('to', 127), ('is', 107), ('The', 102), ('it', 89), ('of', 85), ('place', 73), ('for', 72), ('not', 70), ('this', 69), ('in', 66), (\"n't\", 65), ('food', 65)]\n"
          ],
          "name": "stdout"
        }
      ]
    },
    {
      "cell_type": "code",
      "metadata": {
        "id": "3PzeUaqny4lh",
        "colab_type": "code",
        "colab": {}
      },
      "source": [
        "device = torch.device('cuda' if torch.cuda.is_available() else 'cpu')\n",
        "train_iterator, valid_iterator, test_iterator = data.BucketIterator.splits(\n",
        "    (train_torchtext, validate_torchtext, test_torchtext), \n",
        "    batch_size = 64,\n",
        "    device = device,\n",
        "    sort_key= lambda x: len(x.text),\n",
        "    sort_within_batch=False)"
      ],
      "execution_count": 35,
      "outputs": []
    },
    {
      "cell_type": "markdown",
      "metadata": {
        "id": "0oNoCeeWQwy3",
        "colab_type": "text"
      },
      "source": [
        "##RNN"
      ]
    },
    {
      "cell_type": "markdown",
      "metadata": {
        "id": "-j35peL3htIW",
        "colab_type": "text"
      },
      "source": [
        "###Create the model"
      ]
    },
    {
      "cell_type": "code",
      "metadata": {
        "id": "WDOtF5w_TC4n",
        "colab_type": "code",
        "colab": {}
      },
      "source": [
        "import torch.nn as nn\n",
        "class RNN(nn.Module):\n",
        "    def __init__(self, vocab_size, embedding_dim, hidden_dim, output_dim, n_layers, \n",
        "                 bidirectional, dropout, pad_idx):\n",
        "        \n",
        "        super().__init__()\n",
        "        \n",
        "        self.embedding = nn.Embedding(vocab_size, embedding_dim, padding_idx = pad_idx)\n",
        "        \n",
        "        self.rnn = nn.LSTM(embedding_dim, \n",
        "                           hidden_dim, \n",
        "                           num_layers=n_layers, \n",
        "                           bidirectional=bidirectional, \n",
        "                           dropout=dropout)\n",
        "        \n",
        "        self.fc = nn.Linear(hidden_dim * 2, output_dim)\n",
        "        \n",
        "        self.dropout = nn.Dropout(dropout)\n",
        "        \n",
        "    def forward(self, text, text_lengths):\n",
        "        \n",
        "        embedded = self.dropout(self.embedding(text))\n",
        "        \n",
        "        packed_embedded = nn.utils.rnn.pack_padded_sequence(embedded, text_lengths,enforce_sorted=False)\n",
        "        \n",
        "        packed_output, (hidden, cell) = self.rnn(packed_embedded)\n",
        "        \n",
        "\n",
        "        output, output_lengths = nn.utils.rnn.pad_packed_sequence(packed_output)\n",
        "    \n",
        "        hidden = self.dropout(torch.cat((hidden[-2,:,:], hidden[-1,:,:]), dim = 1))\n",
        "                \n",
        "            \n",
        "        return self.fc(hidden)"
      ],
      "execution_count": 36,
      "outputs": []
    },
    {
      "cell_type": "code",
      "metadata": {
        "id": "i1y-VYB52R80",
        "colab_type": "code",
        "colab": {}
      },
      "source": [
        "\n",
        "INPUT_DIM = len(TEXT.vocab)\n",
        "EMBEDDING_DIM = 100\n",
        "HIDDEN_DIM = 32\n",
        "OUTPUT_DIM = 1\n",
        "N_LAYERS = 2\n",
        "BIDIRECTIONAL = True\n",
        "DROPOUT = 0.5\n",
        "PAD_IDX = TEXT.vocab.stoi[TEXT.pad_token]\n",
        "\n",
        "model = RNN(INPUT_DIM, \n",
        "            EMBEDDING_DIM, \n",
        "            HIDDEN_DIM, \n",
        "            OUTPUT_DIM, \n",
        "            N_LAYERS, \n",
        "            BIDIRECTIONAL, \n",
        "            DROPOUT, \n",
        "            PAD_IDX)\n"
      ],
      "execution_count": 37,
      "outputs": []
    },
    {
      "cell_type": "code",
      "metadata": {
        "id": "JX8unB2pg8rk",
        "colab_type": "code",
        "colab": {
          "base_uri": "https://localhost:8080/",
          "height": 158
        },
        "outputId": "563ffecc-b248-442e-a7a0-a0fcf3424ad0"
      },
      "source": [
        "#embeddings setting\n",
        "pretrained_embeddings = TEXT.vocab.vectors\n",
        "\n",
        "print(pretrained_embeddings.shape)\n",
        "\n",
        "model.embedding.weight.data.copy_(pretrained_embeddings)\n",
        "UNK_IDX = TEXT.vocab.stoi[TEXT.unk_token]\n",
        "\n",
        "model.embedding.weight.data[UNK_IDX] = torch.zeros(EMBEDDING_DIM)\n",
        "model.embedding.weight.data[PAD_IDX] = torch.zeros(EMBEDDING_DIM)\n",
        "\n",
        "print(model.embedding.weight.data)"
      ],
      "execution_count": 38,
      "outputs": [
        {
          "output_type": "stream",
          "text": [
            "torch.Size([1753, 100])\n",
            "tensor([[ 0.0000,  0.0000,  0.0000,  ...,  0.0000,  0.0000,  0.0000],\n",
            "        [ 0.0000,  0.0000,  0.0000,  ...,  0.0000,  0.0000,  0.0000],\n",
            "        [-0.3398,  0.2094,  0.4635,  ..., -0.2339,  0.4730, -0.0288],\n",
            "        ...,\n",
            "        [-1.4103, -0.2549, -0.1962,  ...,  0.2221,  0.8597,  0.3654],\n",
            "        [ 0.2911,  0.1218, -0.1307,  ...,  0.2353,  0.3025, -0.0789],\n",
            "        [ 0.1095,  0.1958,  0.5703,  ..., -0.0667, -0.3019,  0.4945]])\n"
          ],
          "name": "stdout"
        }
      ]
    },
    {
      "cell_type": "markdown",
      "metadata": {
        "id": "xmiB3DRFfwRy",
        "colab_type": "text"
      },
      "source": [
        "###Train the model"
      ]
    },
    {
      "cell_type": "code",
      "metadata": {
        "id": "gxu2Fh68TDMT",
        "colab_type": "code",
        "colab": {}
      },
      "source": [
        "# Train function\n",
        "import torch.optim as optim\n",
        "\n",
        "# Device configuration (choose GPU if it is available )\n",
        "\n",
        "optimizer = optim.Adam(model.parameters())\n",
        "criterion = nn.BCEWithLogitsLoss()\n",
        "\n",
        "model = model.to(device)\n",
        "criterion = criterion.to(device)\n"
      ],
      "execution_count": 39,
      "outputs": []
    },
    {
      "cell_type": "code",
      "metadata": {
        "id": "PdSHCUlUd8YG",
        "colab_type": "code",
        "colab": {}
      },
      "source": [
        "def binary_accuracy(preds, y):\n",
        "    \"\"\"\n",
        "    Returns accuracy per batch, i.e. if you get 8/10 right, this returns 0.8, NOT 8\n",
        "    \"\"\"\n",
        "\n",
        "    #round predictions to the closest integer\n",
        "    rounded_preds = torch.round(torch.sigmoid(preds))\n",
        "    correct = (rounded_preds == y).float() #convert into float for division \n",
        "    acc = correct.sum() / len(correct)\n",
        "    return acc\n"
      ],
      "execution_count": 40,
      "outputs": []
    },
    {
      "cell_type": "code",
      "metadata": {
        "id": "yXXXn_KeeDJ0",
        "colab_type": "code",
        "colab": {}
      },
      "source": [
        "def train(model, iterator, optimizer, criterion):\n",
        "    \n",
        "    epoch_loss = 0\n",
        "    epoch_acc = 0\n",
        "    \n",
        "    model.train()\n",
        "    \n",
        "    for batch in iterator:\n",
        "        \n",
        "        optimizer.zero_grad()\n",
        "        \n",
        "        text, text_lengths = batch.text\n",
        "        \n",
        "        predictions = model(text, text_lengths).squeeze(1)\n",
        "        \n",
        "        loss = criterion(predictions, batch.label)\n",
        "        \n",
        "        acc = binary_accuracy(predictions, batch.label)\n",
        "        \n",
        "        loss.backward()\n",
        "        \n",
        "        optimizer.step()\n",
        "        \n",
        "        epoch_loss += loss.item()\n",
        "        epoch_acc += acc.item()\n",
        "        \n",
        "    return epoch_loss / len(iterator), epoch_acc / len(iterator)"
      ],
      "execution_count": 41,
      "outputs": []
    },
    {
      "cell_type": "code",
      "metadata": {
        "id": "YOGYpNnaeRf4",
        "colab_type": "code",
        "colab": {}
      },
      "source": [
        "def evaluate(model, iterator, criterion):\n",
        "    \n",
        "    epoch_loss = 0\n",
        "    epoch_acc = 0\n",
        "    \n",
        "    model.eval()\n",
        "    \n",
        "    with torch.no_grad():\n",
        "        print(iterator)\n",
        "        for batch in iterator:\n",
        "\n",
        "            text, text_lengths = batch.text\n",
        "            \n",
        "            predictions = model(text, text_lengths).squeeze(1)\n",
        "            \n",
        "            loss = criterion(predictions, batch.label)\n",
        "            \n",
        "            acc = binary_accuracy(predictions, batch.label)\n",
        "\n",
        "            epoch_loss += loss.item()\n",
        "            epoch_acc += acc.item()\n",
        "        \n",
        "    return epoch_loss / len(iterator), epoch_acc / len(iterator)"
      ],
      "execution_count": 42,
      "outputs": []
    },
    {
      "cell_type": "code",
      "metadata": {
        "id": "Wzu_w020eStw",
        "colab_type": "code",
        "colab": {}
      },
      "source": [
        "import time\n",
        "\n",
        "def epoch_time(start_time, end_time):\n",
        "    elapsed_time = end_time - start_time\n",
        "    elapsed_mins = int(elapsed_time / 60)\n",
        "    elapsed_secs = int(elapsed_time - (elapsed_mins * 60))\n",
        "    return elapsed_mins, elapsed_secs"
      ],
      "execution_count": 43,
      "outputs": []
    },
    {
      "cell_type": "code",
      "metadata": {
        "id": "W0GqmXNLeYuM",
        "colab_type": "code",
        "colab": {
          "base_uri": "https://localhost:8080/",
          "height": 727
        },
        "outputId": "5ead580c-e1d2-487a-84e7-7ed15da1f0e4"
      },
      "source": [
        "N_EPOCHS = 10\n",
        "\n",
        "best_valid_loss = float('inf')\n",
        "\n",
        "for epoch in range(N_EPOCHS):\n",
        "\n",
        "    start_time = time.time()\n",
        "    \n",
        "    train_loss, train_acc = train(model, train_iterator, optimizer, criterion)\n",
        "    valid_loss, valid_acc = evaluate(model, valid_iterator, criterion)\n",
        "    \n",
        "    end_time = time.time()\n",
        "\n",
        "    epoch_mins, epoch_secs = epoch_time(start_time, end_time)\n",
        "    \n",
        "    if valid_loss < best_valid_loss:\n",
        "        best_valid_loss = valid_loss\n",
        "        torch.save(model.state_dict(), results_path + '/'+'RNN-model.pt')\n",
        "    \n",
        "    print(f'Epoch: {epoch+1:02} | Epoch Time: {epoch_mins}m {epoch_secs}s')\n",
        "    print(f'\\tTrain Loss: {train_loss:.3f} | Train Acc: {train_acc*100:.2f}%')\n",
        "    print(f'\\t Val. Loss: {valid_loss:.3f} |  Val. Acc: {valid_acc*100:.2f}%')"
      ],
      "execution_count": 44,
      "outputs": [
        {
          "output_type": "stream",
          "text": [
            "<torchtext.data.iterator.BucketIterator object at 0x7f1711dfd278>\n",
            "Epoch: 01 | Epoch Time: 0m 0s\n",
            "\tTrain Loss: 0.690 | Train Acc: 53.75%\n",
            "\t Val. Loss: 0.684 |  Val. Acc: 55.86%\n",
            "<torchtext.data.iterator.BucketIterator object at 0x7f1711dfd278>\n",
            "Epoch: 02 | Epoch Time: 0m 0s\n",
            "\tTrain Loss: 0.685 | Train Acc: 53.70%\n",
            "\t Val. Loss: 0.680 |  Val. Acc: 55.47%\n",
            "<torchtext.data.iterator.BucketIterator object at 0x7f1711dfd278>\n",
            "Epoch: 03 | Epoch Time: 0m 0s\n",
            "\tTrain Loss: 0.686 | Train Acc: 54.90%\n",
            "\t Val. Loss: 0.677 |  Val. Acc: 55.86%\n",
            "<torchtext.data.iterator.BucketIterator object at 0x7f1711dfd278>\n",
            "Epoch: 04 | Epoch Time: 0m 0s\n",
            "\tTrain Loss: 0.679 | Train Acc: 55.16%\n",
            "\t Val. Loss: 0.673 |  Val. Acc: 58.20%\n",
            "<torchtext.data.iterator.BucketIterator object at 0x7f1711dfd278>\n",
            "Epoch: 05 | Epoch Time: 0m 0s\n",
            "\tTrain Loss: 0.672 | Train Acc: 60.00%\n",
            "\t Val. Loss: 0.665 |  Val. Acc: 61.72%\n",
            "<torchtext.data.iterator.BucketIterator object at 0x7f1711dfd278>\n",
            "Epoch: 06 | Epoch Time: 0m 0s\n",
            "\tTrain Loss: 0.650 | Train Acc: 66.67%\n",
            "\t Val. Loss: 0.655 |  Val. Acc: 64.06%\n",
            "<torchtext.data.iterator.BucketIterator object at 0x7f1711dfd278>\n",
            "Epoch: 07 | Epoch Time: 0m 0s\n",
            "\tTrain Loss: 0.629 | Train Acc: 69.01%\n",
            "\t Val. Loss: 0.650 |  Val. Acc: 65.23%\n",
            "<torchtext.data.iterator.BucketIterator object at 0x7f1711dfd278>\n",
            "Epoch: 08 | Epoch Time: 0m 0s\n",
            "\tTrain Loss: 0.603 | Train Acc: 70.52%\n",
            "\t Val. Loss: 0.623 |  Val. Acc: 66.02%\n",
            "<torchtext.data.iterator.BucketIterator object at 0x7f1711dfd278>\n",
            "Epoch: 09 | Epoch Time: 0m 0s\n",
            "\tTrain Loss: 0.562 | Train Acc: 73.28%\n",
            "\t Val. Loss: 0.615 |  Val. Acc: 71.88%\n",
            "<torchtext.data.iterator.BucketIterator object at 0x7f1711dfd278>\n",
            "Epoch: 10 | Epoch Time: 0m 0s\n",
            "\tTrain Loss: 0.540 | Train Acc: 75.05%\n",
            "\t Val. Loss: 0.617 |  Val. Acc: 69.53%\n"
          ],
          "name": "stdout"
        }
      ]
    },
    {
      "cell_type": "code",
      "metadata": {
        "id": "O8NivQlrK6hb",
        "colab_type": "code",
        "colab": {
          "base_uri": "https://localhost:8080/",
          "height": 52
        },
        "outputId": "c1027e0c-c4ff-4a39-8a46-df7b4f292df2"
      },
      "source": [
        "model.load_state_dict(torch.load(results_path + '/'+'RNN-model.pt'))\n",
        "\n",
        "test_loss, test_acc = evaluate(model, test_iterator, criterion)\n",
        "\n",
        "print(f'Test Loss: {test_loss:.3f} | Test Acc: {test_acc*100:.2f}%')"
      ],
      "execution_count": 45,
      "outputs": [
        {
          "output_type": "stream",
          "text": [
            "<torchtext.data.iterator.BucketIterator object at 0x7f1711dfd208>\n",
            "Test Loss: 0.620 | Test Acc: 70.31%\n"
          ],
          "name": "stdout"
        }
      ]
    },
    {
      "cell_type": "markdown",
      "metadata": {
        "id": "3kEGxmQU-ImG",
        "colab_type": "text"
      },
      "source": [
        "Final result under 0.5 ==> negative review\n",
        "\n",
        "Final result above 0.5 ==> positive review"
      ]
    },
    {
      "cell_type": "code",
      "metadata": {
        "id": "tKs-SUe3LdIy",
        "colab_type": "code",
        "colab": {}
      },
      "source": [
        "import spacy\n",
        "nlp = spacy.load('en')\n",
        "\n",
        "def predict_sentiment(model, sentence):\n",
        "    model.eval()\n",
        "    tokenized = [tok.text for tok in nlp.tokenizer(sentence)]\n",
        "    indexed = [TEXT.vocab.stoi[t] for t in tokenized]\n",
        "    length = [len(indexed)]\n",
        "    tensor = torch.LongTensor(indexed).to(device)\n",
        "    tensor = tensor.unsqueeze(1)\n",
        "    length_tensor = torch.LongTensor(length)\n",
        "    prediction = torch.sigmoid(model(tensor, length_tensor))\n",
        "    if list(LABEL.vocab.stoi.keys())[0] == \"neg\":\n",
        "      my_pred = prediction.item()\n",
        "    else:\n",
        "      my_pred = 1-prediction.item()\n",
        "    if my_pred> 0.5:\n",
        "        print(\"Positive review\")\n",
        "    else:\n",
        "        print(\"Negative review\")\n",
        "    return my_pred\n",
        "\n",
        "    "
      ],
      "execution_count": 47,
      "outputs": []
    },
    {
      "cell_type": "markdown",
      "metadata": {
        "id": "W3-EiVyz-Yug",
        "colab_type": "text"
      },
      "source": [
        "We try 4 different sentences, which sentiment is predicted correctly\n"
      ]
    },
    {
      "cell_type": "code",
      "metadata": {
        "id": "LIO6KrZILvvu",
        "colab_type": "code",
        "colab": {
          "base_uri": "https://localhost:8080/",
          "height": 52
        },
        "outputId": "3727ad5a-11e6-4337-892e-b76c2ded2269"
      },
      "source": [
        "predict_sentiment(model, \"I probably won't be coming back here.\")"
      ],
      "execution_count": 48,
      "outputs": [
        {
          "output_type": "stream",
          "text": [
            "Negative review\n"
          ],
          "name": "stdout"
        },
        {
          "output_type": "execute_result",
          "data": {
            "text/plain": [
              "0.11246383190155029"
            ]
          },
          "metadata": {
            "tags": []
          },
          "execution_count": 48
        }
      ]
    },
    {
      "cell_type": "code",
      "metadata": {
        "id": "5ACQkYTzqGUd",
        "colab_type": "code",
        "colab": {
          "base_uri": "https://localhost:8080/",
          "height": 52
        },
        "outputId": "b31d6067-a1e8-4053-8806-5d0ab56c9295"
      },
      "source": [
        "predict_sentiment(model, \"The chips and sals a here is amazing!!!!!!!!!!!!!!!!!!!\")"
      ],
      "execution_count": 49,
      "outputs": [
        {
          "output_type": "stream",
          "text": [
            "Positive review\n"
          ],
          "name": "stdout"
        },
        {
          "output_type": "execute_result",
          "data": {
            "text/plain": [
              "0.8823733925819397"
            ]
          },
          "metadata": {
            "tags": []
          },
          "execution_count": 49
        }
      ]
    },
    {
      "cell_type": "code",
      "metadata": {
        "id": "81eornnCZ9qs",
        "colab_type": "code",
        "colab": {
          "base_uri": "https://localhost:8080/",
          "height": 52
        },
        "outputId": "95fabc38-5c7d-4f87-8adc-a6aff5adf9fc"
      },
      "source": [
        "predict_sentiment(model, \"I hated it\")"
      ],
      "execution_count": 50,
      "outputs": [
        {
          "output_type": "stream",
          "text": [
            "Negative review\n"
          ],
          "name": "stdout"
        },
        {
          "output_type": "execute_result",
          "data": {
            "text/plain": [
              "0.48276200890541077"
            ]
          },
          "metadata": {
            "tags": []
          },
          "execution_count": 50
        }
      ]
    },
    {
      "cell_type": "code",
      "metadata": {
        "id": "7IyCePA6Z99T",
        "colab_type": "code",
        "colab": {
          "base_uri": "https://localhost:8080/",
          "height": 52
        },
        "outputId": "6960c603-0a11-451f-82d2-e7a70806c7fb"
      },
      "source": [
        "predict_sentiment(model, \"It sucks\")"
      ],
      "execution_count": 51,
      "outputs": [
        {
          "output_type": "stream",
          "text": [
            "Negative review\n"
          ],
          "name": "stdout"
        },
        {
          "output_type": "execute_result",
          "data": {
            "text/plain": [
              "0.45071691274642944"
            ]
          },
          "metadata": {
            "tags": []
          },
          "execution_count": 51
        }
      ]
    },
    {
      "cell_type": "markdown",
      "metadata": {
        "id": "VuzCXoWw-e9_",
        "colab_type": "text"
      },
      "source": [
        "Number of parameters around 230k"
      ]
    },
    {
      "cell_type": "code",
      "metadata": {
        "id": "RemjL0Gvj3VP",
        "colab_type": "code",
        "colab": {
          "base_uri": "https://localhost:8080/",
          "height": 34
        },
        "outputId": "494ea1c3-7c4e-43ff-e06c-a59c655acbe5"
      },
      "source": [
        "def count_parameters(model):\n",
        "    return sum(p.numel() for p in model.parameters() if p.requires_grad)\n",
        "\n",
        "print(f'The model has {count_parameters(model):,} trainable parameters')"
      ],
      "execution_count": 53,
      "outputs": [
        {
          "output_type": "stream",
          "text": [
            "The model has 234,757 trainable parameters\n"
          ],
          "name": "stdout"
        }
      ]
    },
    {
      "cell_type": "markdown",
      "metadata": {
        "id": "PrXX4yDPRGBb",
        "colab_type": "text"
      },
      "source": [
        "##CNN"
      ]
    },
    {
      "cell_type": "markdown",
      "metadata": {
        "id": "634WRpf_gtTm",
        "colab_type": "text"
      },
      "source": [
        "###Preprocessing the data"
      ]
    },
    {
      "cell_type": "code",
      "metadata": {
        "id": "wT6borIYRvzT",
        "colab_type": "code",
        "colab": {}
      },
      "source": [
        "TEXT_CNN = data.Field(tokenize = 'spacy', batch_first = True)\n",
        "LABEL_CNN = data.LabelField(dtype = torch.float)"
      ],
      "execution_count": 54,
      "outputs": []
    },
    {
      "cell_type": "code",
      "metadata": {
        "id": "JyxouiPtd2QN",
        "colab_type": "code",
        "colab": {}
      },
      "source": [
        "from torchtext import datasets\n",
        "import pandas\n",
        "\n",
        "df_cnn = pandas.read_csv(data_path+'Restaurant_Reviews.csv',sep='\\t')\n",
        "\n",
        "train_cnn, validate_cnn, test_cnn = np.split(df_cnn.sample(frac=1), [int(.6*len(df)), int(.8*len(df))])\n",
        "train_cnn=preprocess_data(train_cnn)\n",
        "validate_cnn=preprocess_data(validate_cnn)\n",
        "test_cnn=preprocess_data(test_cnn)\n",
        "train_torchtext_cnn=convert_to_dataset(train_cnn,TEXT_CNN,LABEL_CNN)\n",
        "validate_torchtext_cnn=convert_to_dataset(validate_cnn,TEXT_CNN,LABEL_CNN)\n",
        "test_torchtext_cnn=convert_to_dataset(test_cnn,TEXT_CNN,LABEL_CNN)"
      ],
      "execution_count": 55,
      "outputs": []
    },
    {
      "cell_type": "code",
      "metadata": {
        "id": "ZHfSoSj5eyA8",
        "colab_type": "code",
        "colab": {}
      },
      "source": [
        "MAX_VOCAB_SIZE = 25_000\n",
        "\n",
        "TEXT_CNN.build_vocab(train_torchtext_cnn, \n",
        "                 max_size = MAX_VOCAB_SIZE, \n",
        "                 vectors = \"glove.6B.100d\", \n",
        "                 unk_init = torch.Tensor.normal_)\n",
        "\n",
        "LABEL_CNN.build_vocab(train_torchtext_cnn)"
      ],
      "execution_count": 56,
      "outputs": []
    },
    {
      "cell_type": "code",
      "metadata": {
        "id": "AmGHMZrifJ6D",
        "colab_type": "code",
        "colab": {}
      },
      "source": [
        "BATCH_SIZE = 64\n",
        "\n",
        "device_cnn = torch.device('cuda' if torch.cuda.is_available() else 'cpu')\n",
        "\n",
        "train_iterator_cnn, valid_iterator_cnn, test_iterator_cnn = data.BucketIterator.splits(\n",
        "    (train_torchtext_cnn, validate_torchtext_cnn, test_torchtext_cnn), \n",
        "    batch_size = BATCH_SIZE, \n",
        "    device = device_cnn,\n",
        "    sort_key= lambda x: len(x.text),\n",
        "    sort_within_batch=False)"
      ],
      "execution_count": 57,
      "outputs": []
    },
    {
      "cell_type": "markdown",
      "metadata": {
        "id": "CS6YI2zwgv38",
        "colab_type": "text"
      },
      "source": [
        "###Create the model"
      ]
    },
    {
      "cell_type": "code",
      "metadata": {
        "id": "rez9hN-PfaTo",
        "colab_type": "code",
        "colab": {}
      },
      "source": [
        "import torch.nn as nn\n",
        "import torch.nn.functional as F\n",
        "class CNN(nn.Module):\n",
        "    def __init__(self, vocab_size, embedding_dim, n_filters, filter_sizes, output_dim, \n",
        "                 dropout, pad_idx):\n",
        "        \n",
        "        super().__init__()\n",
        "                \n",
        "        self.embedding = nn.Embedding(vocab_size, embedding_dim, padding_idx = pad_idx)\n",
        "        \n",
        "        self.convs = nn.ModuleList([\n",
        "                                    nn.Conv2d(in_channels = 1, \n",
        "                                              out_channels = n_filters, \n",
        "                                              kernel_size = (fs, embedding_dim)) \n",
        "                                    for fs in filter_sizes\n",
        "                                    ])\n",
        "        \n",
        "        self.fc = nn.Linear(len(filter_sizes) * n_filters, output_dim)\n",
        "        \n",
        "        self.dropout = nn.Dropout(dropout)\n",
        "        \n",
        "    def forward(self, text):\n",
        "        \n",
        "        embedded = self.embedding(text)\n",
        "        \n",
        "        embedded = embedded.unsqueeze(1)\n",
        "        \n",
        "        conved = [F.relu(conv(embedded)).squeeze(3) for conv in self.convs]\n",
        "                \n",
        "        pooled = [F.max_pool1d(conv, conv.shape[2]).squeeze(2) for conv in conved]\n",
        "\n",
        "        cat = self.dropout(torch.cat(pooled, dim = 1))\n",
        "\n",
        "        return self.fc(cat)"
      ],
      "execution_count": 60,
      "outputs": []
    },
    {
      "cell_type": "code",
      "metadata": {
        "id": "BFeR_M-Dfgel",
        "colab_type": "code",
        "colab": {}
      },
      "source": [
        "INPUT_DIM_cnn = len(TEXT_CNN.vocab)\n",
        "EMBEDDING_DIM_cnn = 100\n",
        "N_FILTERS_cnn = 100\n",
        "FILTER_SIZES_cnn = [3,4,5]\n",
        "OUTPUT_DIM_cnn = 1\n",
        "DROPOUT_cnn = 0.5\n",
        "PAD_IDX_cnn = TEXT_CNN.vocab.stoi[TEXT_CNN.pad_token]\n",
        "\n",
        "model_cnn = CNN(INPUT_DIM_cnn, EMBEDDING_DIM_cnn, N_FILTERS_cnn, FILTER_SIZES_cnn, OUTPUT_DIM_cnn, DROPOUT_cnn, PAD_IDX_cnn)"
      ],
      "execution_count": 61,
      "outputs": []
    },
    {
      "cell_type": "code",
      "metadata": {
        "id": "dOkb2Ze7fw8Z",
        "colab_type": "code",
        "colab": {
          "base_uri": "https://localhost:8080/",
          "height": 141
        },
        "outputId": "7e7ae203-16df-4246-85d9-d4dead86abd3"
      },
      "source": [
        "#embeddings setting\n",
        "pretrained_embeddings_cnn = TEXT_CNN.vocab.vectors\n",
        "\n",
        "model_cnn.embedding.weight.data.copy_(pretrained_embeddings_cnn)"
      ],
      "execution_count": 62,
      "outputs": [
        {
          "output_type": "execute_result",
          "data": {
            "text/plain": [
              "tensor([[-0.8034, -1.3328,  1.9760,  ...,  0.9751,  1.8569,  0.1438],\n",
              "        [-0.2599, -0.9822, -0.6308,  ...,  0.1010, -0.3009, -0.3985],\n",
              "        [-0.3398,  0.2094,  0.4635,  ..., -0.2339,  0.4730, -0.0288],\n",
              "        ...,\n",
              "        [ 2.1339,  0.3628,  0.1081,  ..., -1.7391,  0.8406,  0.7634],\n",
              "        [-0.5936, -0.0749,  0.5304,  ...,  0.2310,  0.5684,  0.4886],\n",
              "        [-0.4735, -0.4899,  1.3609,  ...,  0.6387,  0.2690, -0.0217]])"
            ]
          },
          "metadata": {
            "tags": []
          },
          "execution_count": 62
        }
      ]
    },
    {
      "cell_type": "code",
      "metadata": {
        "id": "kRrMHMdmgB1n",
        "colab_type": "code",
        "colab": {}
      },
      "source": [
        "UNK_IDX_cnn = TEXT_CNN.vocab.stoi[TEXT_CNN.unk_token]\n",
        "\n",
        "model_cnn.embedding.weight.data[UNK_IDX_cnn] = torch.zeros(EMBEDDING_DIM_cnn)\n",
        "model_cnn.embedding.weight.data[PAD_IDX_cnn] = torch.zeros(EMBEDDING_DIM_cnn)"
      ],
      "execution_count": 63,
      "outputs": []
    },
    {
      "cell_type": "markdown",
      "metadata": {
        "id": "w7ONYXgmgz0X",
        "colab_type": "text"
      },
      "source": [
        "###Train the model"
      ]
    },
    {
      "cell_type": "code",
      "metadata": {
        "id": "K12tYQAbgF1v",
        "colab_type": "code",
        "colab": {}
      },
      "source": [
        "import torch.optim as optim\n",
        "\n",
        "optimizer_cnn = optim.Adam(model_cnn.parameters())\n",
        "\n",
        "criterion_cnn = nn.BCEWithLogitsLoss()\n",
        "\n",
        "model_cnn = model_cnn.to(device_cnn)\n",
        "criterion_cnn = criterion_cnn.to(device_cnn)"
      ],
      "execution_count": 64,
      "outputs": []
    },
    {
      "cell_type": "code",
      "metadata": {
        "id": "E3qJ5t6GhZ1T",
        "colab_type": "code",
        "colab": {}
      },
      "source": [
        "def train(model, iterator, optimizer, criterion):\n",
        "    \n",
        "    epoch_loss = 0\n",
        "    epoch_acc = 0\n",
        "    \n",
        "    model.train()\n",
        "    \n",
        "    for batch in iterator:\n",
        "        \n",
        "        optimizer.zero_grad()\n",
        "        \n",
        "        predictions = model(batch.text).squeeze(1)\n",
        "        \n",
        "        loss = criterion(predictions, batch.label)\n",
        "        \n",
        "        acc = binary_accuracy(predictions, batch.label)\n",
        "        \n",
        "        loss.backward()\n",
        "        \n",
        "        optimizer.step()\n",
        "        \n",
        "        epoch_loss += loss.item()\n",
        "        epoch_acc += acc.item()\n",
        "        \n",
        "    return epoch_loss / len(iterator), epoch_acc / len(iterator)"
      ],
      "execution_count": 65,
      "outputs": []
    },
    {
      "cell_type": "code",
      "metadata": {
        "id": "icEEusRxgQOT",
        "colab_type": "code",
        "colab": {}
      },
      "source": [
        "def evaluate(model, iterator, criterion):\n",
        "    \n",
        "    epoch_loss = 0\n",
        "    epoch_acc = 0\n",
        "    \n",
        "    model.eval()\n",
        "    \n",
        "    with torch.no_grad():\n",
        "    \n",
        "        for batch in iterator:\n",
        "\n",
        "            predictions = model(batch.text).squeeze(1)\n",
        "            \n",
        "            loss = criterion(predictions, batch.label)\n",
        "            \n",
        "            acc = binary_accuracy(predictions, batch.label)\n",
        "\n",
        "            epoch_loss += loss.item()\n",
        "            epoch_acc += acc.item()\n",
        "        \n",
        "    return epoch_loss / len(iterator), epoch_acc / len(iterator)"
      ],
      "execution_count": 66,
      "outputs": []
    },
    {
      "cell_type": "code",
      "metadata": {
        "id": "udFn_KBCgVm0",
        "colab_type": "code",
        "colab": {
          "base_uri": "https://localhost:8080/",
          "height": 550
        },
        "outputId": "866b055d-5c96-4746-a9ca-1a0624486ceb"
      },
      "source": [
        "N_EPOCHS = 10\n",
        "\n",
        "best_valid_loss = float('inf')\n",
        "\n",
        "for epoch in range(N_EPOCHS):\n",
        "\n",
        "    start_time = time.time()\n",
        "    \n",
        "    train_loss, train_acc = train(model_cnn, train_iterator_cnn, optimizer_cnn, criterion_cnn)\n",
        "    valid_loss, valid_acc = evaluate(model_cnn, valid_iterator_cnn, criterion_cnn)\n",
        "    \n",
        "    end_time = time.time()\n",
        "\n",
        "    epoch_mins, epoch_secs = epoch_time(start_time, end_time)\n",
        "    \n",
        "    if valid_loss < best_valid_loss:\n",
        "        best_valid_loss = valid_loss\n",
        "        torch.save(model_cnn.state_dict(), results_path + '/'+'cnn-model.pt')\n",
        "    \n",
        "    print(f'Epoch: {epoch+1:02} | Epoch Time: {epoch_mins}m {epoch_secs}s')\n",
        "    print(f'\\tTrain Loss: {train_loss:.3f} | Train Acc: {train_acc*100:.2f}%')\n",
        "    print(f'\\t Val. Loss: {valid_loss:.3f} |  Val. Acc: {valid_acc*100:.2f}%')"
      ],
      "execution_count": 67,
      "outputs": [
        {
          "output_type": "stream",
          "text": [
            "Epoch: 01 | Epoch Time: 0m 0s\n",
            "\tTrain Loss: 0.667 | Train Acc: 59.17%\n",
            "\t Val. Loss: 0.658 |  Val. Acc: 64.84%\n",
            "Epoch: 02 | Epoch Time: 0m 0s\n",
            "\tTrain Loss: 0.578 | Train Acc: 73.59%\n",
            "\t Val. Loss: 0.641 |  Val. Acc: 64.06%\n",
            "Epoch: 03 | Epoch Time: 0m 0s\n",
            "\tTrain Loss: 0.518 | Train Acc: 79.27%\n",
            "\t Val. Loss: 0.624 |  Val. Acc: 66.41%\n",
            "Epoch: 04 | Epoch Time: 0m 0s\n",
            "\tTrain Loss: 0.447 | Train Acc: 85.36%\n",
            "\t Val. Loss: 0.612 |  Val. Acc: 70.31%\n",
            "Epoch: 05 | Epoch Time: 0m 0s\n",
            "\tTrain Loss: 0.391 | Train Acc: 87.76%\n",
            "\t Val. Loss: 0.579 |  Val. Acc: 71.09%\n",
            "Epoch: 06 | Epoch Time: 0m 0s\n",
            "\tTrain Loss: 0.320 | Train Acc: 91.98%\n",
            "\t Val. Loss: 0.571 |  Val. Acc: 71.48%\n",
            "Epoch: 07 | Epoch Time: 0m 0s\n",
            "\tTrain Loss: 0.282 | Train Acc: 93.54%\n",
            "\t Val. Loss: 0.555 |  Val. Acc: 73.05%\n",
            "Epoch: 08 | Epoch Time: 0m 0s\n",
            "\tTrain Loss: 0.228 | Train Acc: 94.69%\n",
            "\t Val. Loss: 0.535 |  Val. Acc: 73.83%\n",
            "Epoch: 09 | Epoch Time: 0m 0s\n",
            "\tTrain Loss: 0.178 | Train Acc: 96.46%\n",
            "\t Val. Loss: 0.521 |  Val. Acc: 74.61%\n",
            "Epoch: 10 | Epoch Time: 0m 0s\n",
            "\tTrain Loss: 0.144 | Train Acc: 98.28%\n",
            "\t Val. Loss: 0.521 |  Val. Acc: 74.22%\n"
          ],
          "name": "stdout"
        }
      ]
    },
    {
      "cell_type": "code",
      "metadata": {
        "id": "dmJRpoJssFq-",
        "colab_type": "code",
        "colab": {
          "base_uri": "https://localhost:8080/",
          "height": 34
        },
        "outputId": "c1ff5dcb-7525-409d-ed7c-6142c092e4e1"
      },
      "source": [
        "model_cnn.load_state_dict(torch.load(results_path + '/'+'cnn-model.pt'))\n",
        "\n",
        "test_loss_cnn, test_acc_cnn = evaluate(model_cnn, test_iterator_cnn, criterion_cnn)\n",
        "\n",
        "print(f'Test Loss: {test_loss_cnn:.3f} | Test Acc: {test_acc_cnn*100:.2f}%')"
      ],
      "execution_count": 68,
      "outputs": [
        {
          "output_type": "stream",
          "text": [
            "Test Loss: 0.545 | Test Acc: 75.00%\n"
          ],
          "name": "stdout"
        }
      ]
    },
    {
      "cell_type": "code",
      "metadata": {
        "id": "PtVUjuFIiNee",
        "colab_type": "code",
        "colab": {}
      },
      "source": [
        "nlp = spacy.load('en')\n",
        "\n",
        "def predict_sentiment(model, sentence, min_len = 5):\n",
        "    model.eval()\n",
        "    tokenized = [tok.text for tok in nlp.tokenizer(sentence)]\n",
        "    if len(tokenized) < min_len:\n",
        "        tokenized += ['<pad>'] * (min_len - len(tokenized))\n",
        "    indexed = [TEXT_CNN.vocab.stoi[t] for t in tokenized]\n",
        "    tensor = torch.LongTensor(indexed).to(device_cnn)\n",
        "    tensor = tensor.unsqueeze(0)\n",
        "    prediction = torch.sigmoid(model(tensor))\n",
        "    if list(LABEL_CNN.vocab.stoi.keys())[0] == \"neg\":\n",
        "      my_pred = prediction.item()\n",
        "    else:\n",
        "      my_pred = 1-prediction.item()\n",
        "    if my_pred> 0.5:\n",
        "        print(\"Positive review\")\n",
        "    else:\n",
        "        print(\"Negative review\")\n",
        "    return my_pred"
      ],
      "execution_count": 69,
      "outputs": []
    },
    {
      "cell_type": "markdown",
      "metadata": {
        "id": "YyefQKDB-1oQ",
        "colab_type": "text"
      },
      "source": [
        "We try the 4 same sentences as for RNN"
      ]
    },
    {
      "cell_type": "code",
      "metadata": {
        "id": "69C_Tvq9tG0A",
        "colab_type": "code",
        "colab": {
          "base_uri": "https://localhost:8080/",
          "height": 52
        },
        "outputId": "0d3f3083-522d-4690-d3bd-bb47afc0fd12"
      },
      "source": [
        "predict_sentiment(model_cnn, \"I probably won't be coming back here.\")"
      ],
      "execution_count": 71,
      "outputs": [
        {
          "output_type": "stream",
          "text": [
            "Negative review\n"
          ],
          "name": "stdout"
        },
        {
          "output_type": "execute_result",
          "data": {
            "text/plain": [
              "0.08322006464004517"
            ]
          },
          "metadata": {
            "tags": []
          },
          "execution_count": 71
        }
      ]
    },
    {
      "cell_type": "code",
      "metadata": {
        "id": "X8XCAF5Mtcso",
        "colab_type": "code",
        "colab": {
          "base_uri": "https://localhost:8080/",
          "height": 52
        },
        "outputId": "814915e4-396e-4a99-928a-2dbe2d7db8a2"
      },
      "source": [
        "predict_sentiment(model_cnn, \"The chips and sals a here is amazing!!!!!!!!!!!!!!!!!!!\")"
      ],
      "execution_count": 72,
      "outputs": [
        {
          "output_type": "stream",
          "text": [
            "Positive review\n"
          ],
          "name": "stdout"
        },
        {
          "output_type": "execute_result",
          "data": {
            "text/plain": [
              "0.9719551559537649"
            ]
          },
          "metadata": {
            "tags": []
          },
          "execution_count": 72
        }
      ]
    },
    {
      "cell_type": "code",
      "metadata": {
        "id": "-yizECK1GGCX",
        "colab_type": "code",
        "colab": {
          "base_uri": "https://localhost:8080/",
          "height": 52
        },
        "outputId": "63ef3efe-4c80-4f95-cb95-af9934e3f45b"
      },
      "source": [
        "predict_sentiment(model_cnn, \"I hated it\")"
      ],
      "execution_count": 73,
      "outputs": [
        {
          "output_type": "stream",
          "text": [
            "Negative review\n"
          ],
          "name": "stdout"
        },
        {
          "output_type": "execute_result",
          "data": {
            "text/plain": [
              "0.32960784435272217"
            ]
          },
          "metadata": {
            "tags": []
          },
          "execution_count": 73
        }
      ]
    },
    {
      "cell_type": "code",
      "metadata": {
        "id": "d7PLTvrdGPwW",
        "colab_type": "code",
        "colab": {
          "base_uri": "https://localhost:8080/",
          "height": 52
        },
        "outputId": "0441bed7-1415-467a-dda4-62cc4e25034f"
      },
      "source": [
        "predict_sentiment(model_cnn, \"It sucks\")"
      ],
      "execution_count": 74,
      "outputs": [
        {
          "output_type": "stream",
          "text": [
            "Negative review\n"
          ],
          "name": "stdout"
        },
        {
          "output_type": "execute_result",
          "data": {
            "text/plain": [
              "0.17209982872009277"
            ]
          },
          "metadata": {
            "tags": []
          },
          "execution_count": 74
        }
      ]
    },
    {
      "cell_type": "markdown",
      "metadata": {
        "id": "T8fqz3fQ-7ls",
        "colab_type": "text"
      },
      "source": [
        "Parameters of the model around 280k"
      ]
    },
    {
      "cell_type": "code",
      "metadata": {
        "id": "bbxj8R6tazFb",
        "colab_type": "code",
        "colab": {
          "base_uri": "https://localhost:8080/",
          "height": 34
        },
        "outputId": "93454b1c-572f-49ea-e778-1693be2d0746"
      },
      "source": [
        "print(f'The model has {count_parameters(model_cnn):,} trainable parameters')"
      ],
      "execution_count": 75,
      "outputs": [
        {
          "output_type": "stream",
          "text": [
            "The model has 288,001 trainable parameters\n"
          ],
          "name": "stdout"
        }
      ]
    }
  ]
}